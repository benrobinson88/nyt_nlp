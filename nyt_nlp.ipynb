{
 "cells": [
  {
   "cell_type": "code",
   "execution_count": 23,
   "metadata": {},
   "outputs": [],
   "source": [
    "from bs4 import BeautifulSoup\n",
    "import requests\n",
    "from textblob import TextBlob\n",
    "from textblob.sentiments import NaiveBayesAnalyzer\n",
    "from textblob import classifiers\n",
    "import pprint\n",
    "from numpy import mean\n",
    "import matplotlib.pyplot as plt\n",
    "%matplotlib inline"
   ]
  },
  {
   "cell_type": "markdown",
   "metadata": {},
   "source": [
    "We're going to conduct our analysis on a range of news sources, across mediums and political positions. Roughly, we've organized them into three classes:  Newspapers (e.g. USA Today), Networks (e.g. CNN), and primarily online sources (e.g. Reuters)."
   ]
  },
  {
   "cell_type": "code",
   "execution_count": 2,
   "metadata": {},
   "outputs": [],
   "source": [
    "newspapers = ['http://www.usatoday.com','http://www.wsj.com','http://www.nytimes.com',\\\n",
    "              'http://www.washingtonpost.com', 'http://www.latimes.com', 'http://www.nypost.com',\\\n",
    "             'http://www.newsday.com', 'http://www.chicagotribune.com', 'http://www.nydailynews.com',\\\n",
    "              'http://www.denverpost.com', 'http://www.chron.com', 'http://www.dallasnews.com',\\\n",
    "              'http://www.bostonglobe.com', 'http://www.seattletimes.com', 'http://www.tampabay.com']\n",
    "\n",
    "networks = ['http://www.cnn.com', 'http://www.msnbc.com', 'http://www.foxnews.com', 'http://abcnews.go.com',\\\n",
    "           'http://www.cbsnews.com']\n",
    "\n",
    "online_primary = ['http://www.reuters.com','http://news.yahoo.com', 'http://www.news.aol.com','http://www.huffingtonpost.com',\\\n",
    "              'http://www.theatlantic.com']"
   ]
  },
  {
   "cell_type": "markdown",
   "metadata": {},
   "source": [
    "In order to search for immigration stories, we're going to use a list of immigration-related root words"
   ]
  },
  {
   "cell_type": "code",
   "execution_count": 9,
   "metadata": {},
   "outputs": [],
   "source": [
    "immigration_roots = ['immig', 'sessions', 'border', 'migran', 'nielsen', 'asylum']"
   ]
  },
  {
   "cell_type": "markdown",
   "metadata": {},
   "source": [
    "First, let's analyze the newspapers"
   ]
  },
  {
   "cell_type": "code",
   "execution_count": 13,
   "metadata": {},
   "outputs": [
    {
     "name": "stdout",
     "output_type": "stream",
     "text": [
      "Summary for http://www.usatoday.com\n",
      "{'nouns': WordList([u'trump', u\"'s immigration order\"]),\n",
      " 'polarity': 0.0,\n",
      " 'subjectivity': 0.0}\n",
      "{'nouns': WordList([u'immigrant children']),\n",
      " 'polarity': 0.8,\n",
      " 'subjectivity': 0.9}\n",
      "{'nouns': WordList([u'border crisis']), 'polarity': 0.0, 'subjectivity': 0.0}\n",
      "{'nouns': WordList([u'donald trump', u'immigrant children']),\n",
      " 'polarity': 0.0,\n",
      " 'subjectivity': 0.0}\n",
      "{'nouns': WordList([u'true', u'trump', u'weakest immigration laws']),\n",
      " 'polarity': -0.02500000000000005,\n",
      " 'subjectivity': 0.625}\n",
      "{'nouns': WordList([u'immigrants', u'us unaware', u'family separations']),\n",
      " 'polarity': 0.0,\n",
      " 'subjectivity': 0.25}\n",
      "{'nouns': WordList([u'lewandowski', u'mocks migrant girl', u'down']),\n",
      " 'polarity': -0.15555555555555559,\n",
      " 'subjectivity': 0.2888888888888889}\n",
      "{'nouns': WordList([u'fact', u'border detention', u'immigrant children']),\n",
      " 'polarity': 0.0,\n",
      " 'subjectivity': 0.0}\n",
      "{'nouns': WordList([u'trump', u'signs order', u'immigrant family separations']),\n",
      " 'polarity': 0.0,\n",
      " 'subjectivity': 0.0}\n",
      "{}\n",
      "Summary for http://www.wsj.com\n",
      "{}\n",
      "Summary for http://www.nytimes.com\n",
      "{'nouns': WordList([u'mr. trump', u'illegal immigrants', u'\\u201c murderers', u'thieves \\u201d', u'country. \\u201d', u'crude discourse', u'national conversation']),\n",
      " 'polarity': -0.6,\n",
      " 'subjectivity': 0.75}\n",
      "{'nouns': WordList([u'border states', u'republican', u'mexico']),\n",
      " 'polarity': 0.0,\n",
      " 'subjectivity': 0.0}\n",
      "{'nouns': WordList([u'trump', u'immigration policy']),\n",
      " 'polarity': 0.0,\n",
      " 'subjectivity': 0.0}\n",
      "{'nouns': WordList([u'trump', u'border policy']),\n",
      " 'polarity': 0.5,\n",
      " 'subjectivity': 0.5}\n",
      "{'nouns': WordList([u'immigrant children shouldn \\u2019 t']),\n",
      " 'polarity': 0.0,\n",
      " 'subjectivity': 0.0}\n",
      "{}\n",
      "Summary for http://www.washingtonpost.com\n",
      "{}\n",
      "Summary for http://www.latimes.com\n",
      "{}\n",
      "Summary for http://www.nypost.com\n",
      "{'nouns': WordList([u'protesters', u'laguardia', u'young migrants', u'nyc']),\n",
      " 'polarity': 0.1,\n",
      " 'subjectivity': 0.4}\n",
      "{'nouns': WordList([u'tent city', u'texas', u'migrant children']),\n",
      " 'polarity': 0.0,\n",
      " 'subjectivity': 0.0}\n",
      "{'nouns': WordList([u'young immigrants', u'juvenile detention center allege abuses']),\n",
      " 'polarity': -0.08333333333333333,\n",
      " 'subjectivity': 0.25}\n",
      "{'nouns': WordList([u'trump', u\"touts 'tough\", u'immigration policies', u\"slams 'elites\", u'raucous rally']),\n",
      " 'polarity': -0.34444444444444444,\n",
      " 'subjectivity': 0.7166666666666667}\n",
      "{'nouns': WordList([u'cohen', u'rnc', u'trump', u\"'s immigration policy\"]),\n",
      " 'polarity': 0.0,\n",
      " 'subjectivity': 0.0}\n",
      "{}\n",
      "Summary for http://www.newsday.com\n",
      "{'nouns': WordList([u'nation', u'trump', u'hard-line immigration policies']),\n",
      " 'polarity': 0.0,\n",
      " 'subjectivity': 0.0}\n",
      "{'nouns': WordList([u'nation', u'immigration bills']),\n",
      " 'polarity': 0.0,\n",
      " 'subjectivity': 0.0}\n",
      "{}\n",
      "Summary for http://www.chicagotribune.com\n",
      "{'nouns': WordList([u'federal officials', u'transport children', u'u.s.', u'immigration policy', u'airlines \\u2019 comments', u'commercial airlines', u'transport children']),\n",
      " 'polarity': -0.041666666666666664,\n",
      " 'subjectivity': 0.125}\n",
      "{'nouns': WordList([u'american medical association', u'trump', u's border', u'childhood trauma']),\n",
      " 'polarity': 0.0,\n",
      " 'subjectivity': 0.0}\n",
      "{'nouns': WordList([u'starbucks', u'u.s.', u'racial-bias training sessions', u'mandatory session', u'high-profile arrest', u'black men', u'philadelphia starbucks', u'business partner', u'white employee']),\n",
      " 'polarity': -0.07916666666666666,\n",
      " 'subjectivity': 0.13333333333333333}\n",
      "{'nouns': WordList([u'el departamento', u'justicia', u'reconoci\\xf3 hoy que es', u'orden ejecutiva firmada hoy por el presidente', u'donald trump', u'para acabar', u'ni\\xf1os inmigrantes', u'sus padres', u'frontera sur del pa\\xeds', u's\\xed', u'es ilegal', u'es claramente ilegal', u'dijo un consejero', u'fiscal\\xeda']),\n",
      " 'polarity': 0.05000000000000002,\n",
      " 'subjectivity': 0.5}\n",
      "{'nouns': WordList([u'el', u'donald trump', u'firm\\xf3 hoy una orden ejecutiva para detener', u'los ni\\xf1os inmigrantes', u'sus padres cuando \\xe9stos son detenidos', u'frontera sur', u'una pol\\xedtica que', u'generado cr\\xedticas', u'todo el mundo', u'una', u'casa blanca', u'confirm\\xf3 que', u'trump', u'rubric\\xf3 un documento ...']),\n",
      " 'polarity': 0.0,\n",
      " 'subjectivity': 0.0}\n",
      "{'nouns': WordList([u'donald trump', u'public outcry', u'zero tolerance', u'immigration policy', u'executive order', u'family separations', u'u.s.-mexico', u'trump', u'abrupt reversal']),\n",
      " 'polarity': -0.20833333333333334,\n",
      " 'subjectivity': 0.5222222222222223}\n",
      "{'nouns': WordList([u'donald trump', u'right thing', u'immigration crisis', u'executive order', u'administration \\u2019 s inhumane practice', u'southern border', u'shelters ...']),\n",
      " 'polarity': -0.1285714285714286,\n",
      " 'subjectivity': 0.45892857142857146}\n",
      "{}\n",
      "Summary for http://www.nydailynews.com\n",
      "{}\n",
      "Summary for http://www.denverpost.com\n",
      "{}\n",
      "Summary for http://www.chron.com\n",
      "{}\n",
      "Summary for http://www.dallasnews.com\n",
      "{'nouns': WordList([u'knowledge \\u201d', u'migrant children', u'previous flights']),\n",
      " 'polarity': -0.08333333333333333,\n",
      " 'subjectivity': 0.08333333333333333}\n",
      "{}\n",
      "Summary for http://www.bostonglobe.com\n",
      "{'nouns': WordList([u'executive order', u'migrant families', u'us representative', u'mark sanford']),\n",
      " 'polarity': 0.0,\n",
      " 'subjectivity': 0.0}\n",
      "{'nouns': WordList([u'immigrant', u'juvenile detention center', u'virginia', u'long periods', u'solitary confinement', u'concrete cells']),\n",
      " 'polarity': -0.024999999999999994,\n",
      " 'subjectivity': 0.24166666666666667}\n",
      "{}\n",
      "Summary for http://www.seattletimes.com\n",
      "{}\n",
      "Summary for http://www.tampabay.com\n",
      "{}\n",
      "Overall Summary\n",
      "{'http://www.bostonglobe.com': {},\n",
      " 'http://www.chicagotribune.com': {},\n",
      " 'http://www.chron.com': {},\n",
      " 'http://www.dallasnews.com': {},\n",
      " 'http://www.denverpost.com': {},\n",
      " 'http://www.latimes.com': {},\n",
      " 'http://www.newsday.com': {},\n",
      " 'http://www.nydailynews.com': {},\n",
      " 'http://www.nypost.com': {},\n",
      " 'http://www.nytimes.com': {},\n",
      " 'http://www.seattletimes.com': {},\n",
      " 'http://www.tampabay.com': {},\n",
      " 'http://www.usatoday.com': {},\n",
      " 'http://www.washingtonpost.com': {},\n",
      " 'http://www.wsj.com': {}}\n"
     ]
    }
   ],
   "source": [
    "newspaper_summary = {}\n",
    "for paper in newspapers:\n",
    "    summary ={}\n",
    "    print \"Summary for %s\" %paper\n",
    "    r = requests.get(paper)\n",
    "    soup = BeautifulSoup(r.text, \"html.parser\")\n",
    "    if paper == 'http://www.nypost.com':\n",
    "        paragraphs = soup.find_all(\"h3\")\n",
    "    else:\n",
    "        paragraphs = soup.find_all(\"p\")\n",
    "    stories_to_read = []\n",
    "    for item in paragraphs:\n",
    "        stories_to_read.append(item.get_text())\n",
    "    for story in stories_to_read:\n",
    "        story_summary = {}\n",
    "        text_story = TextBlob(story)\n",
    "        for phrase in immigration_roots:\n",
    "            if str(text_story.noun_phrases).find(phrase) > 0:\n",
    "                story_summary['nouns'] = text_story.noun_phrases\n",
    "                story_summary['polarity'] = text_story.sentiment.polarity\n",
    "                story_summary['subjectivity'] = text_story.sentiment.subjectivity\n",
    "        if len(story_summary)>0:\n",
    "            pprint.pprint(story_summary)\n",
    "    pprint.pprint(summary)\n",
    "    newspaper_summary[paper] = summary\n",
    "print \"Overall Summary\"\n",
    "pprint.pprint(newspaper_summary)"
   ]
  },
  {
   "cell_type": "code",
   "execution_count": 20,
   "metadata": {},
   "outputs": [
    {
     "name": "stdout",
     "output_type": "stream",
     "text": [
      "Working on http://www.usatoday.com\n",
      "Subjectivity Score for http://www.usatoday.com is 0.214259259259\n",
      "Polarity Score for http://www.usatoday.com is 0.0946296296296\n",
      "Working on http://www.wsj.com\n",
      "Working on http://www.nytimes.com\n",
      "Subjectivity Score for http://www.nytimes.com is 0.285714285714\n",
      "Polarity Score for http://www.nytimes.com is -0.1\n",
      "Working on http://www.washingtonpost.com\n",
      "Working on http://www.latimes.com\n",
      "Working on http://www.nypost.com\n",
      "Working on http://www.newsday.com\n",
      "Subjectivity Score for http://www.newsday.com is 0.0\n",
      "Polarity Score for http://www.newsday.com is 0.0\n",
      "Working on http://www.chicagotribune.com\n",
      "Subjectivity Score for http://www.chicagotribune.com is 0.274801587302\n",
      "Polarity Score for http://www.chicagotribune.com is -0.0670386904762\n",
      "Working on http://www.nydailynews.com\n",
      "Working on http://www.denverpost.com\n",
      "Working on http://www.chron.com\n",
      "Working on http://www.dallasnews.com\n",
      "Subjectivity Score for http://www.dallasnews.com is 0.0833333333333\n",
      "Polarity Score for http://www.dallasnews.com is -0.0833333333333\n",
      "Working on http://www.bostonglobe.com\n",
      "Subjectivity Score for http://www.bostonglobe.com is 0.161111111111\n",
      "Polarity Score for http://www.bostonglobe.com is -0.0166666666667\n",
      "Working on http://www.seattletimes.com\n",
      "Working on http://www.tampabay.com\n"
     ]
    }
   ],
   "source": [
    "overall_polarity = []\n",
    "subjectivity_scores = []\n",
    "polarity_scores = []\n",
    "for paper in newspapers:\n",
    "    subjectivity = 0\n",
    "    polarity = 0\n",
    "    num_stories = 0\n",
    "    print \"Working on %s\" %paper\n",
    "    r = requests.get(paper)\n",
    "    soup = BeautifulSoup(r.text, \"html.parser\")\n",
    "    paragraphs = soup.find_all(\"p\")\n",
    "    stories_to_read = []\n",
    "    for item in paragraphs:\n",
    "        stories_to_read.append(item.get_text())\n",
    "    for story in stories_to_read:\n",
    "        text_story = TextBlob(story)\n",
    "        words_found = 0\n",
    "        words_checked = 0\n",
    "        while words_found < 1 and words_checked < len(immigration_roots):\n",
    "            for phrase in immigration_roots:\n",
    "                if str(text_story.noun_phrases).find(phrase) > 0:\n",
    "                    polarity += text_story.sentiment.polarity\n",
    "                    subjectivity += text_story.sentiment.subjectivity\n",
    "                    num_stories +=1\n",
    "                    words_found +=1\n",
    "                words_checked +=1\n",
    "    if num_stories > 0:\n",
    "        paper_subjectivity = subjectivity/num_stories\n",
    "        paper_polarity = polarity/num_stories\n",
    "        overall_polarity.append(paper_polarity)\n",
    "    else:\n",
    "        paper_subjectivity = \"Not enough data\"\n",
    "        paper_polarity = \"Not enough data\"\n",
    "    if isinstance(paper_polarity, float):\n",
    "        print \"Subjectivity Score for %s is %s\" %(paper, paper_subjectivity)\n",
    "        print \"Polarity Score for %s is %s\" %(paper, paper_polarity)\n",
    "        subjectivity_scores.append(paper_subjectivity)\n",
    "        polarity_scores.append(paper_polarity)"
   ]
  },
  {
   "cell_type": "code",
   "execution_count": 21,
   "metadata": {},
   "outputs": [
    {
     "name": "stdout",
     "output_type": "stream",
     "text": [
      "Overall polarity score for this topic is -0.028734843474426803\n"
     ]
    }
   ],
   "source": [
    "grand_polarity = mean(overall_polarity)\n",
    "print \"Overall polarity score for this topic is %s\" %grand_polarity"
   ]
  },
  {
   "cell_type": "markdown",
   "metadata": {},
   "source": [
    "Let's look at how this plots:"
   ]
  },
  {
   "cell_type": "code",
   "execution_count": 28,
   "metadata": {},
   "outputs": [
    {
     "data": {
      "image/png": "[encoded data removed]",
      "text/plain": [
       "<matplotlib.figure.Figure at 0xd1ce208>"
      ]
     },
     "metadata": {},
     "output_type": "display_data"
    }
   ],
   "source": [
    "plt.plot(subjectivity_scores, polarity_scores, 'o')\n",
    "plt.title('Subjectivity and Polarity of Immigration Coverage')\n",
    "plt.xlabel('Subjectivity Score')\n",
    "plt.ylabel('Polarity Score')\n",
    "plt.show()"
   ]
  },
  {
   "cell_type": "code",
   "execution_count": null,
   "metadata": {},
   "outputs": [],
   "source": []
  }
 ],
 "metadata": {
  "kernelspec": {
   "display_name": "Python 2",
   "language": "python",
   "name": "python2"
  },
  "language_info": {
   "codemirror_mode": {
    "name": "ipython",
    "version": 2
   },
   "file_extension": ".py",
   "mimetype": "text/x-python",
   "name": "python",
   "nbconvert_exporter": "python",
   "pygments_lexer": "ipython2",
   "version": "2.7.14"
  }
 },
 "nbformat": 4,
 "nbformat_minor": 2
}
