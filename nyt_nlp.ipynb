{
 "cells": [
  {
   "cell_type": "code",
   "execution_count": 18,
   "metadata": {},
   "outputs": [],
   "source": [
    "from bs4 import BeautifulSoup\n",
    "import requests\n",
    "from textblob import TextBlob\n",
    "from textblob.sentiments import NaiveBayesAnalyzer\n",
    "from textblob import classifiers\n",
    "import pprint"
   ]
  },
  {
   "cell_type": "markdown",
   "metadata": {},
   "source": [
    "We're going to conduct our analysis on a range of news sources, across mediums and political positions. Roughly, we've organized them into three classes:  Newspapers (e.g. USA Today), Networks (e.g. CNN), and primarily online sources (e.g. Reuters)."
   ]
  },
  {
   "cell_type": "code",
   "execution_count": 23,
   "metadata": {},
   "outputs": [],
   "source": [
    "newspapers = ['http://www.usatoday.com','http://www.wsj.com','http://www.nytimes.com',\\\n",
    "              'http://www.washingtonpost.com', 'http://www.latimes.com', 'http://www.nypost.com',\\\n",
    "             'http://www.newsday.com', 'http://www.chicagotribune.com', 'http://www.nydailynews.com',\\\n",
    "              'http://www.denverpost.com', 'http://www.chron.com', 'http://www.dallasnews.com',\\\n",
    "              'http://www.bostonglobe.com', 'http://www.seattletimes.com', 'http://www.tampabay.com']\n",
    "\n",
    "networks = ['http://www.cnn.com', 'http://www.msnbc.com', 'http://www.foxnews.com', 'http://abcnews.go.com',\\\n",
    "           'http://www.cbsnews.com']\n",
    "\n",
    "online_primary = ['http://www.reuters.com','http://news.yahoo.com', 'http://www.news.aol.com','http://www.huffingtonpost.com',\\\n",
    "              'http://www.theatlantic.com']"
   ]
  },
  {
   "cell_type": "markdown",
   "metadata": {},
   "source": [
    "In order to search for immigration stories, we're going to use a list of immigration-related root words"
   ]
  },
  {
   "cell_type": "code",
   "execution_count": 27,
   "metadata": {},
   "outputs": [],
   "source": [
    "immig_roots = ['immig', 'sessions', 'border', 'migran']"
   ]
  },
  {
   "cell_type": "markdown",
   "metadata": {},
   "source": [
    "First, let's analyze the newspapers"
   ]
  },
  {
   "cell_type": "code",
   "execution_count": 36,
   "metadata": {},
   "outputs": [
    {
     "name": "stdout",
     "output_type": "stream",
     "text": [
      "Summary for http://www.usatoday.com\n",
      "{'nouns': WordList([u'jeff sessions', u'don \\u2019 t', u'separate parents']),\n",
      " 'polarity': 0.0,\n",
      " 'subjectivity': 0.0}\n",
      "{'nouns': WordList([u'facebook', u'campaign raises $ 5m', u'reunite immigrant families']),\n",
      " 'polarity': 0.0,\n",
      " 'subjectivity': 0.0}\n",
      "{}\n",
      "Summary for http://www.wsj.com\n",
      "{'nouns': WordList([u'trump', u'broad bill legislation', u'migrant children']),\n",
      " 'polarity': -0.012500000000000002,\n",
      " 'subjectivity': 0.3375000000000001}\n",
      "{}\n",
      "Summary for http://www.nytimes.com\n",
      "{'nouns': WordList([u'trump', u'\\u2019 s policy', u'immigrant children', u'mr. trump']),\n",
      " 'polarity': 0.033333333333333326,\n",
      " 'subjectivity': 0.5}\n",
      "{'nouns': WordList([u'trump', u'border policy']),\n",
      " 'polarity': 0.5,\n",
      " 'subjectivity': 0.5}\n",
      "{}\n",
      "Summary for http://www.washingtonpost.com\n",
      "{}\n",
      "Summary for http://www.latimes.com\n",
      "{}\n",
      "Summary for http://www.nypost.com\n",
      "{}\n",
      "Summary for http://www.newsday.com\n",
      "{'nouns': WordList([u'spin cycle cuomo', u'ny', u'immigrant policy']),\n",
      " 'polarity': 0.0,\n",
      " 'subjectivity': 0.0}\n",
      "{}\n",
      "Summary for http://www.chicagotribune.com\n",
      "{'nouns': WordList([u'starbucks', u'u.s.', u'racial-bias training sessions', u'mandatory session', u'high-profile arrest', u'black men', u'philadelphia starbucks', u'business partner', u'white employee']),\n",
      " 'polarity': -0.07916666666666666,\n",
      " 'subjectivity': 0.13333333333333333}\n",
      "{'nouns': WordList([u'lady \\u2014', u'melania', u'immigrant families', u'u.s.-mexico', u'rare moment', u'bipartisan unity', u'small sorority', u'presidential spouses', u'laura bush']),\n",
      " 'polarity': -0.10833333333333334,\n",
      " 'subjectivity': 0.4138888888888889}\n",
      "{'nouns': WordList([u'old warehouse', u'texas', u'immigrant children', u'scattered', u'large foil sheets']),\n",
      " 'polarity': 0.15714285714285714,\n",
      " 'subjectivity': 0.3142857142857143}\n",
      "{}\n",
      "Summary for http://www.nydailynews.com\n",
      "{}\n",
      "Summary for http://www.denverpost.com\n",
      "{}\n",
      "Summary for http://www.chron.com\n",
      "{}\n",
      "Summary for http://www.dallasnews.com\n",
      "{}\n",
      "Summary for http://www.bostonglobe.com\n",
      "{'nouns': WordList([u'thomas hodgson', u'jail staff', u'salvadoran', u'immigrant \\u2019 s', u'constitutional rights', u'civil detainer']),\n",
      " 'polarity': -0.1,\n",
      " 'subjectivity': 0.0}\n",
      "{'nouns': WordList([u'country supports', u'so-called zero-tolerance policy', u'dramatic increase', u'southern border']),\n",
      " 'polarity': -0.14444444444444443,\n",
      " 'subjectivity': 0.3666666666666667}\n",
      "{'nouns': WordList([u'racial subjugation', u'white supremacy', u'\\u2019 re', u'border isn \\u2019 t', u'\\u2019 s']),\n",
      " 'polarity': 0.0,\n",
      " 'subjectivity': 0.0}\n",
      "{}\n",
      "Summary for http://www.seattletimes.com\n",
      "{}\n",
      "Summary for http://www.tampabay.com\n",
      "{}\n",
      "Overall Summary\n",
      "{'http://www.bostonglobe.com': {},\n",
      " 'http://www.chicagotribune.com': {},\n",
      " 'http://www.chron.com': {},\n",
      " 'http://www.dallasnews.com': {},\n",
      " 'http://www.denverpost.com': {},\n",
      " 'http://www.latimes.com': {},\n",
      " 'http://www.newsday.com': {},\n",
      " 'http://www.nydailynews.com': {},\n",
      " 'http://www.nypost.com': {},\n",
      " 'http://www.nytimes.com': {},\n",
      " 'http://www.seattletimes.com': {},\n",
      " 'http://www.tampabay.com': {},\n",
      " 'http://www.usatoday.com': {},\n",
      " 'http://www.washingtonpost.com': {},\n",
      " 'http://www.wsj.com': {}}\n"
     ]
    }
   ],
   "source": [
    "newspaper_summary = {}\n",
    "for paper in newspapers:\n",
    "    summary ={}\n",
    "    print \"Summary for %s\" %paper\n",
    "    r = requests.get(paper)\n",
    "    soup = BeautifulSoup(r.text, \"html.parser\")\n",
    "    paragraphs = soup.find_all(\"p\")\n",
    "    stories_to_read = []\n",
    "    for item in paragraphs:\n",
    "        stories_to_read.append(item.get_text())\n",
    "    for story in stories_to_read:\n",
    "        story_summary = {}\n",
    "        text_story = TextBlob(story)\n",
    "        for phrase in immig_roots:\n",
    "            if str(text_story.noun_phrases).find(phrase) > 0:\n",
    "                story_summary['nouns'] = text_story.noun_phrases\n",
    "                story_summary['polarity'] = text_story.sentiment.polarity\n",
    "                story_summary['subjectivity'] = text_story.sentiment.subjectivity\n",
    "        if len(story_summary)>0:\n",
    "            pprint.pprint(story_summary)\n",
    "    pprint.pprint(summary)\n",
    "    newspaper_summary[paper] = summary\n",
    "print \"Overall Summary\"\n",
    "pprint.pprint(newspaper_summary)"
   ]
  },
  {
   "cell_type": "code",
   "execution_count": 8,
   "metadata": {
    "scrolled": true
   },
   "outputs": [],
   "source": [
    "#Filter to find stories on immigration\n",
    "\n",
    "overall_summary = {}\n",
    "for story in stories_to_read:\n",
    "    text_story = TextBlob(story)\n",
    "    summary = {}\n",
    "    for phrase in immig_roots:\n",
    "        if str(text_story.noun_phrases).find(phrase) >0:\n",
    "            summary['nouns'] = text_story.noun_phrases\n",
    "            summary['polarity'] = text_story.sentiment.polarity\n",
    "            summary['subjectivity'] = text_story.sentiment.subjectivity\n",
    "            overall_summary[story] = summary\n",
    "pprint.pprint(overall_summary)"
   ]
  },
  {
   "cell_type": "code",
   "execution_count": 9,
   "metadata": {},
   "outputs": [],
   "source": []
  },
  {
   "cell_type": "code",
   "execution_count": 11,
   "metadata": {
    "scrolled": true
   },
   "outputs": [],
   "source": [
    "sentiments_list = []\n",
    "for story in stories_to_read:\n",
    "    analysis_subject = TextBlob(story, analyzer = NaiveBayesAnalyzer())\n",
    "    sentiments_list.append(analysis_subject.sentiment)"
   ]
  },
  {
   "cell_type": "code",
   "execution_count": 12,
   "metadata": {},
   "outputs": [
    {
     "name": "stdout",
     "output_type": "stream",
     "text": [
      "[Sentiment(classification='pos', p_pos=0.9999461870755826, p_neg=5.3812924417559616e-05), Sentiment(classification='pos', p_pos=0.9734438181980501, p_neg=0.02655618180194581), Sentiment(classification='pos', p_pos=0.9034787497095463, p_neg=0.09652125029045362), Sentiment(classification='pos', p_pos=0.92256505125051, p_neg=0.07743494874948785), Sentiment(classification='pos', p_pos=0.9852377166378377, p_neg=0.014762283362160752), Sentiment(classification='pos', p_pos=0.9754756368027491, p_neg=0.02452436319724911), Sentiment(classification='pos', p_pos=0.5903471817508893, p_neg=0.4096528182491081), Sentiment(classification='pos', p_pos=0.6258378387367102, p_neg=0.3741621612632887), Sentiment(classification='pos', p_pos=0.9897096742168187, p_neg=0.010290325783181883), Sentiment(classification='pos', p_pos=0.9976993795974743, p_neg=0.002300620402526608), Sentiment(classification='pos', p_pos=0.8846630318682114, p_neg=0.11533696813179116), Sentiment(classification='pos', p_pos=0.9988277821183766, p_neg=0.0011722178816228044), Sentiment(classification='pos', p_pos=0.9826526771173433, p_neg=0.017347322882654885), Sentiment(classification='neg', p_pos=0.42070198943909115, p_neg=0.5792980105609092), Sentiment(classification='neg', p_pos=0.32078788420758947, p_neg=0.6792121157924106), Sentiment(classification='pos', p_pos=0.9529825187440544, p_neg=0.047017481255950025), Sentiment(classification='pos', p_pos=0.9540491172192532, p_neg=0.04595088278074679), Sentiment(classification='pos', p_pos=0.7427515810152424, p_neg=0.25724841898475814), Sentiment(classification='pos', p_pos=0.5, p_neg=0.5), Sentiment(classification='pos', p_pos=0.8610292162257295, p_neg=0.13897078377426883), Sentiment(classification='pos', p_pos=0.891653152419682, p_neg=0.10834684758031676), Sentiment(classification='pos', p_pos=0.5, p_neg=0.5), Sentiment(classification='pos', p_pos=0.7764887654713941, p_neg=0.22351123452860566), Sentiment(classification='neg', p_pos=0.44956957442683315, p_neg=0.5504304255731718), Sentiment(classification='neg', p_pos=0.20303448621154124, p_neg=0.7969655137884541), Sentiment(classification='pos', p_pos=0.7485402010101962, p_neg=0.25145979898980314), Sentiment(classification='pos', p_pos=0.9372786299371134, p_neg=0.06272137006288825), Sentiment(classification='pos', p_pos=0.7564373976757969, p_neg=0.24356260232420085), Sentiment(classification='pos', p_pos=0.9653122396993026, p_neg=0.03468776030070027), Sentiment(classification='neg', p_pos=0.48533979307062, p_neg=0.5146602069293797), Sentiment(classification='pos', p_pos=0.609749089950402, p_neg=0.3902509100496005), Sentiment(classification='neg', p_pos=0.029565831140951144, p_neg=0.970434168859045), Sentiment(classification='pos', p_pos=0.7707451326072482, p_neg=0.2292548673927497), Sentiment(classification='neg', p_pos=0.15606403348460812, p_neg=0.8439359665153919), Sentiment(classification='pos', p_pos=0.9738789512893535, p_neg=0.026121048710647493), Sentiment(classification='pos', p_pos=0.8342284412568517, p_neg=0.16577155874314903), Sentiment(classification='pos', p_pos=0.8754524655508047, p_neg=0.1245475344491944)]\n"
     ]
    }
   ],
   "source": [
    "print sentiments_list"
   ]
  },
  {
   "cell_type": "code",
   "execution_count": 14,
   "metadata": {},
   "outputs": [
    {
     "name": "stdout",
     "output_type": "stream",
     "text": [
      "trump\n",
      "’ s policy\n",
      "immigrant children\n",
      "mr. trump\n",
      "requiring\n",
      "federal court system\n",
      "new category\n",
      "kirstjen nielsen\n",
      "homeland security\n",
      "’ s\n",
      "ms. nielsen\n",
      "’ s\n",
      "global criticism\n",
      "prominent creators\n",
      "tv\n",
      "modern family ”\n",
      "“ family\n",
      "guy\n",
      "recent days\n",
      "news channel\n",
      "trump\n",
      "’ s threat\n",
      "impose tariffs\n",
      "chinese product\n",
      "china\n",
      "u.s.\n",
      "’ s\n",
      "american companies\n",
      "commerce secretary\n",
      "wilbur l. ross jr.\n",
      "kremlin-linked\n",
      "forthcoming news articles\n",
      "job market\n",
      "billionaire conservatives\n",
      "sophisticated fight\n",
      "new public rail projects\n",
      "bus routes\n",
      "ms. nixon\n",
      "harsher scrutiny\n",
      "’ s\n",
      "iran\n",
      "korea\n",
      "eritrea\n",
      "world ’ s\n",
      "important human rights body\n",
      "european officials\n",
      "greece\n",
      "comeback story\n",
      "italy\n",
      "euro ’ s issues\n",
      "nepal\n",
      "’ s\n",
      "trump\n",
      "border policy\n",
      "trump\n",
      "administration ’ s practice\n",
      "top aides\n",
      "stephen miller\n",
      "federal program\n",
      "consumer advocates\n",
      "great gift ideas\n",
      "wirecutter\n",
      "dismissive. ”\n",
      "warwick\n",
      "n.y.\n",
      "world cup fans\n",
      "winter olympics\n",
      "joel mesler\n",
      "successful gallery\n",
      "lower\n",
      "side\n",
      "new chapter\n",
      "buried\n",
      "n.i.h\n",
      "disturbing examples\n",
      "alcohol industry\n",
      "america\n",
      "’ s\n",
      "bill\n",
      "blasio\n",
      "certain kinds\n",
      "criminal histories\n",
      "start\n",
      "summer planning\n",
      "new limited-run newsletter\n",
      "york\n",
      "city ’ s\n",
      "summer activities\n",
      "subscribe\n",
      "gender letter\n",
      "gender editor\n",
      "jessica bennett\n",
      "new poll\n",
      "australians\n",
      "trump\n",
      "chinese investment\n",
      "couldn ’ t\n",
      "australia diary\n",
      "taste test\n",
      "australia\n",
      "’ s favorite* food\n",
      "chinese telecom\n",
      "giant fears\n",
      "u.s.\n",
      "dependable customers\n",
      "italian restaurant\n",
      "hudson\n",
      "pride memorabilia\n",
      "big business\n",
      "fashion film\n",
      "’ t clothes\n",
      "whole point\n",
      "african country\n",
      "equal place\n",
      "world stage\n",
      "blue line\n",
      "multiple generations\n",
      "hurricane —\n"
     ]
    }
   ],
   "source": [
    "for story in stories_to_read:\n",
    "    analysis_subject = TextBlob(story, analyzer = NaiveBayesAnalyzer())\n",
    "    for item in analysis_subject.noun_phrases:\n",
    "        print item"
   ]
  },
  {
   "cell_type": "code",
   "execution_count": 15,
   "metadata": {},
   "outputs": [
    {
     "name": "stdout",
     "output_type": "stream",
     "text": [
      "[u'trump', u'\\u2019 s policy', u'immigrant children', u'mr. trump']\n",
      "[u'requiring', u'federal court system', u'new category']\n",
      "[u'kirstjen nielsen', u'homeland security', u'\\u2019 s']\n",
      "[u'ms. nielsen', u'\\u2019 s', u'global criticism']\n",
      "[u'prominent creators', u'tv', u'modern family \\u201d', u'\\u201c family', u'guy', u'recent days', u'news channel']\n",
      "[u'trump', u'\\u2019 s threat', u'impose tariffs', u'chinese product', u'china', u'u.s.', u'\\u2019 s', u'american companies']\n",
      "[u'commerce secretary', u'wilbur l. ross jr.', u'kremlin-linked', u'forthcoming news articles']\n",
      "[u'job market']\n",
      "[u'billionaire conservatives', u'sophisticated fight', u'new public rail projects', u'bus routes']\n",
      "[u'ms. nixon', u'harsher scrutiny', u'\\u2019 s']\n",
      "[u'iran', u'korea', u'eritrea', u'world \\u2019 s', u'important human rights body']\n",
      "[u'european officials', u'greece', u'comeback story', u'italy', u'euro \\u2019 s issues']\n",
      "[u'nepal']\n",
      "[u'\\u2019 s']\n",
      "[u'trump', u'border policy']\n",
      "[u'trump', u'administration \\u2019 s practice', u'top aides', u'stephen miller']\n",
      "[u'federal program', u'consumer advocates']\n",
      "[u'great gift ideas', u'wirecutter']\n",
      "[]\n",
      "[u'dismissive. \\u201d', u'warwick', u'n.y.']\n",
      "[u'world cup fans', u'winter olympics']\n",
      "[]\n",
      "[u'joel mesler', u'successful gallery', u'lower', u'side', u'new chapter']\n",
      "[u'buried', u'n.i.h', u'disturbing examples', u'alcohol industry', u'america', u'\\u2019 s']\n",
      "[u'bill', u'blasio', u'certain kinds', u'criminal histories']\n",
      "[]\n",
      "[u'start', u'summer planning', u'new limited-run newsletter', u'york', u'city \\u2019 s', u'summer activities']\n",
      "[u'subscribe', u'gender letter', u'gender editor', u'jessica bennett']\n",
      "[u'new poll', u'australians', u'trump', u'chinese investment']\n",
      "[u'couldn \\u2019 t', u'australia diary', u'taste test', u'australia', u'\\u2019 s favorite* food']\n",
      "[u'chinese telecom', u'giant fears', u'u.s.', u'dependable customers']\n",
      "[u'italian restaurant', u'hudson']\n",
      "[u'pride memorabilia', u'big business']\n",
      "[u'fashion film', u'\\u2019 t clothes', u'whole point']\n",
      "[u'african country', u'equal place', u'world stage']\n",
      "[u'blue line']\n",
      "[u'multiple generations', u'hurricane \\u2014']\n"
     ]
    }
   ],
   "source": [
    "for story in stories_to_read:\n",
    "    text_story = TextBlob(story)\n",
    "    print text_story.noun_phrases"
   ]
  },
  {
   "cell_type": "code",
   "execution_count": 16,
   "metadata": {},
   "outputs": [
    {
     "name": "stdout",
     "output_type": "stream",
     "text": [
      "{u'\\n            Plus: The Trump administration defends its border policy, and more.        ': {'nouns': WordList([u'trump', u'border policy']),\n",
      "                                                                                                'polarity': 0.5,\n",
      "                                                                                                'subjectivity': 0.5},\n",
      " u'Congressional Republicans tried to defuse an escalating crisis over President Trump\\u2019s policy of separating immigrant children from parents who cross illegally into the United States. \\n\\nBut the Senate had one plan, the House another, and Mr. Trump remained defiant, refusing to act on his own.': {'nouns': WordList([u'trump', u'\\u2019 s policy', u'immigrant children', u'mr. trump']),\n",
      "                                                                                                                                                                                                                                                                                                                  'polarity': 0.033333333333333326,\n",
      "                                                                                                                                                                                                                                                                                                                  'subjectivity': 0.5}}\n"
     ]
    }
   ],
   "source": [
    "#Filter to find stories on immigration\n",
    "immig_roots = ['immig', 'sessions', 'border', 'migran']\n",
    "overall_summary = {}\n",
    "for story in stories_to_read:\n",
    "    text_story = TextBlob(story)\n",
    "    summary = {}\n",
    "    for phrase in immig_roots:\n",
    "        if str(text_story.noun_phrases).find(phrase) >0:\n",
    "            summary['nouns'] = text_story.noun_phrases\n",
    "            summary['polarity'] = text_story.sentiment.polarity\n",
    "            summary['subjectivity'] = text_story.sentiment.subjectivity\n",
    "            overall_summary[story] = summary\n",
    "pprint.pprint(overall_summary)"
   ]
  },
  {
   "cell_type": "code",
   "execution_count": 17,
   "metadata": {},
   "outputs": [
    {
     "name": "stdout",
     "output_type": "stream",
     "text": [
      "[u'\\n            Plus: The Trump administration defends its border policy, and more.        ', u'Congressional Republicans tried to defuse an escalating crisis over President Trump\\u2019s policy of separating immigrant children from parents who cross illegally into the United States. \\n\\nBut the Senate had one plan, the House another, and Mr. Trump remained defiant, refusing to act on his own.']\n"
     ]
    }
   ],
   "source": [
    "#Want to find the links to the stories above\n",
    "search_phrases = []\n",
    "for key in overall_summary:\n",
    "    search_phrases.append(key)\n",
    "print search_phrases"
   ]
  },
  {
   "cell_type": "code",
   "execution_count": null,
   "metadata": {},
   "outputs": [],
   "source": []
  }
 ],
 "metadata": {
  "kernelspec": {
   "display_name": "Python 2",
   "language": "python",
   "name": "python2"
  },
  "language_info": {
   "codemirror_mode": {
    "name": "ipython",
    "version": 2
   },
   "file_extension": ".py",
   "mimetype": "text/x-python",
   "name": "python",
   "nbconvert_exporter": "python",
   "pygments_lexer": "ipython2",
   "version": "2.7.14"
  }
 },
 "nbformat": 4,
 "nbformat_minor": 2
}
